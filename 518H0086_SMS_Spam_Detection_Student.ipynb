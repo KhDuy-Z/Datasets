{
  "nbformat": 4,
  "nbformat_minor": 0,
  "metadata": {
    "kernelspec": {
      "display_name": "Python 3",
      "language": "python",
      "name": "python3"
    },
    "language_info": {
      "codemirror_mode": {
        "name": "ipython",
        "version": 3
      },
      "file_extension": ".py",
      "mimetype": "text/x-python",
      "name": "python",
      "nbconvert_exporter": "python",
      "pygments_lexer": "ipython3",
      "version": "3.8.5"
    },
    "colab": {
      "name": "518H0086_SMS_Spam_Detection_Student.ipynb",
      "provenance": [],
      "collapsed_sections": [],
      "toc_visible": true,
      "include_colab_link": true
    }
  },
  "cells": [
    {
      "cell_type": "markdown",
      "metadata": {
        "id": "view-in-github",
        "colab_type": "text"
      },
      "source": [
        "<a href=\"https://colab.research.google.com/github/KhDuy-Z/Datasets/blob/master/518H0086_SMS_Spam_Detection_Student.ipynb\" target=\"_parent\"><img src=\"https://colab.research.google.com/assets/colab-badge.svg\" alt=\"Open In Colab\"/></a>"
      ]
    },
    {
      "cell_type": "markdown",
      "metadata": {
        "id": "dP9s-v4nUhfs"
      },
      "source": [
        "# SMS Spam Detection\n",
        "    \n",
        "    The SMS Spam Collection is a set of SMS tagged messages that have been collected for SMS Spam research. It contains one set of SMS messages in English of 5,574 messages, tagged acording being ham (legitimate) or spam.\n",
        "\n",
        "    Acknowledgements\n",
        "\n",
        "    The original dataset can be found in https://archive.ics.uci.edu/ml/datasets/SMS+Spam+Collection. The creators would like to note that in case you find the dataset useful, please make a reference to previous paper and the web page: http://www.dt.fee.unicamp.br/~tiago/smsspamcollection/ in your papers, research, etc.\n",
        "\n",
        "\n",
        "### 1. Import Packages"
      ]
    },
    {
      "cell_type": "code",
      "metadata": {
        "id": "N35Y7X8cUhfz"
      },
      "source": [
        "import warnings\n",
        "warnings.filterwarnings('ignore')\n",
        "import pandas as pd\n",
        "import numpy as np\n",
        "import seaborn as sns\n",
        "import matplotlib as mpl\n",
        "import matplotlib.pyplot as plt\n",
        "from sklearn.feature_extraction.text import CountVectorizer, TfidfVectorizer, HashingVectorizer\n",
        "from sklearn.model_selection import train_test_split\n",
        "from sklearn.model_selection import KFold\n",
        "import matplotlib.patches\n",
        "%matplotlib inline"
      ],
      "execution_count": 25,
      "outputs": []
    },
    {
      "cell_type": "markdown",
      "metadata": {
        "id": "kF4LhZVQUhf0"
      },
      "source": [
        "### 2. Dataset Loading and Data Preprocessing\n",
        "#### 2.1. Read dataset using pandas"
      ]
    },
    {
      "cell_type": "code",
      "metadata": {
        "colab": {
          "base_uri": "https://localhost:8080/",
          "height": 204
        },
        "id": "m2nkzsOQUhf0",
        "outputId": "7081a642-9f6b-40cc-d2de-5bb656038594"
      },
      "source": [
        "# enter here\n",
        "filename = 'sms_spam.csv'\n",
        "sms = pd.read_csv(filename,encoding = 'latin-1')\n",
        "sms.head()"
      ],
      "execution_count": 26,
      "outputs": [
        {
          "output_type": "execute_result",
          "data": {
            "text/html": [
              "<div>\n",
              "<style scoped>\n",
              "    .dataframe tbody tr th:only-of-type {\n",
              "        vertical-align: middle;\n",
              "    }\n",
              "\n",
              "    .dataframe tbody tr th {\n",
              "        vertical-align: top;\n",
              "    }\n",
              "\n",
              "    .dataframe thead th {\n",
              "        text-align: right;\n",
              "    }\n",
              "</style>\n",
              "<table border=\"1\" class=\"dataframe\">\n",
              "  <thead>\n",
              "    <tr style=\"text-align: right;\">\n",
              "      <th></th>\n",
              "      <th>v1</th>\n",
              "      <th>v2</th>\n",
              "      <th>Unnamed: 2</th>\n",
              "      <th>Unnamed: 3</th>\n",
              "      <th>Unnamed: 4</th>\n",
              "    </tr>\n",
              "  </thead>\n",
              "  <tbody>\n",
              "    <tr>\n",
              "      <th>0</th>\n",
              "      <td>ham</td>\n",
              "      <td>Go until jurong point, crazy.. Available only ...</td>\n",
              "      <td>NaN</td>\n",
              "      <td>NaN</td>\n",
              "      <td>NaN</td>\n",
              "    </tr>\n",
              "    <tr>\n",
              "      <th>1</th>\n",
              "      <td>ham</td>\n",
              "      <td>Ok lar... Joking wif u oni...</td>\n",
              "      <td>NaN</td>\n",
              "      <td>NaN</td>\n",
              "      <td>NaN</td>\n",
              "    </tr>\n",
              "    <tr>\n",
              "      <th>2</th>\n",
              "      <td>spam</td>\n",
              "      <td>Free entry in 2 a wkly comp to win FA Cup fina...</td>\n",
              "      <td>NaN</td>\n",
              "      <td>NaN</td>\n",
              "      <td>NaN</td>\n",
              "    </tr>\n",
              "    <tr>\n",
              "      <th>3</th>\n",
              "      <td>ham</td>\n",
              "      <td>U dun say so early hor... U c already then say...</td>\n",
              "      <td>NaN</td>\n",
              "      <td>NaN</td>\n",
              "      <td>NaN</td>\n",
              "    </tr>\n",
              "    <tr>\n",
              "      <th>4</th>\n",
              "      <td>ham</td>\n",
              "      <td>Nah I don't think he goes to usf, he lives aro...</td>\n",
              "      <td>NaN</td>\n",
              "      <td>NaN</td>\n",
              "      <td>NaN</td>\n",
              "    </tr>\n",
              "  </tbody>\n",
              "</table>\n",
              "</div>"
            ],
            "text/plain": [
              "     v1  ... Unnamed: 4\n",
              "0   ham  ...        NaN\n",
              "1   ham  ...        NaN\n",
              "2  spam  ...        NaN\n",
              "3   ham  ...        NaN\n",
              "4   ham  ...        NaN\n",
              "\n",
              "[5 rows x 5 columns]"
            ]
          },
          "metadata": {
            "tags": []
          },
          "execution_count": 26
        }
      ]
    },
    {
      "cell_type": "markdown",
      "metadata": {
        "id": "AOJCvIYSUhf1"
      },
      "source": [
        "#### 2.2. Remove redundant attributes"
      ]
    },
    {
      "cell_type": "code",
      "metadata": {
        "colab": {
          "base_uri": "https://localhost:8080/",
          "height": 204
        },
        "id": "o9HEQ_VJUhf2",
        "outputId": "49e93a19-6788-4670-f48a-e2a9cd3f8a01"
      },
      "source": [
        "# enter here\n",
        "sms = sms.drop(columns=['Unnamed: 2', 'Unnamed: 3', 'Unnamed: 4'])\n",
        "sms.head()"
      ],
      "execution_count": 27,
      "outputs": [
        {
          "output_type": "execute_result",
          "data": {
            "text/html": [
              "<div>\n",
              "<style scoped>\n",
              "    .dataframe tbody tr th:only-of-type {\n",
              "        vertical-align: middle;\n",
              "    }\n",
              "\n",
              "    .dataframe tbody tr th {\n",
              "        vertical-align: top;\n",
              "    }\n",
              "\n",
              "    .dataframe thead th {\n",
              "        text-align: right;\n",
              "    }\n",
              "</style>\n",
              "<table border=\"1\" class=\"dataframe\">\n",
              "  <thead>\n",
              "    <tr style=\"text-align: right;\">\n",
              "      <th></th>\n",
              "      <th>v1</th>\n",
              "      <th>v2</th>\n",
              "    </tr>\n",
              "  </thead>\n",
              "  <tbody>\n",
              "    <tr>\n",
              "      <th>0</th>\n",
              "      <td>ham</td>\n",
              "      <td>Go until jurong point, crazy.. Available only ...</td>\n",
              "    </tr>\n",
              "    <tr>\n",
              "      <th>1</th>\n",
              "      <td>ham</td>\n",
              "      <td>Ok lar... Joking wif u oni...</td>\n",
              "    </tr>\n",
              "    <tr>\n",
              "      <th>2</th>\n",
              "      <td>spam</td>\n",
              "      <td>Free entry in 2 a wkly comp to win FA Cup fina...</td>\n",
              "    </tr>\n",
              "    <tr>\n",
              "      <th>3</th>\n",
              "      <td>ham</td>\n",
              "      <td>U dun say so early hor... U c already then say...</td>\n",
              "    </tr>\n",
              "    <tr>\n",
              "      <th>4</th>\n",
              "      <td>ham</td>\n",
              "      <td>Nah I don't think he goes to usf, he lives aro...</td>\n",
              "    </tr>\n",
              "  </tbody>\n",
              "</table>\n",
              "</div>"
            ],
            "text/plain": [
              "     v1                                                 v2\n",
              "0   ham  Go until jurong point, crazy.. Available only ...\n",
              "1   ham                      Ok lar... Joking wif u oni...\n",
              "2  spam  Free entry in 2 a wkly comp to win FA Cup fina...\n",
              "3   ham  U dun say so early hor... U c already then say...\n",
              "4   ham  Nah I don't think he goes to usf, he lives aro..."
            ]
          },
          "metadata": {
            "tags": []
          },
          "execution_count": 27
        }
      ]
    },
    {
      "cell_type": "markdown",
      "metadata": {
        "id": "EyDB4tTLUhf2"
      },
      "source": [
        "#### 2.3. Rename columns\n",
        "Requires: v1 -> label, v2 -> message"
      ]
    },
    {
      "cell_type": "code",
      "metadata": {
        "colab": {
          "base_uri": "https://localhost:8080/",
          "height": 204
        },
        "id": "8UDLjFRfUhf2",
        "outputId": "2a00a69b-2149-41e2-ff2b-6a668661417e"
      },
      "source": [
        "# enter here\n",
        "sms = sms.rename(columns={\"v1\": \"label\", \"v2\": \"message\"})\n",
        "sms.head()"
      ],
      "execution_count": 28,
      "outputs": [
        {
          "output_type": "execute_result",
          "data": {
            "text/html": [
              "<div>\n",
              "<style scoped>\n",
              "    .dataframe tbody tr th:only-of-type {\n",
              "        vertical-align: middle;\n",
              "    }\n",
              "\n",
              "    .dataframe tbody tr th {\n",
              "        vertical-align: top;\n",
              "    }\n",
              "\n",
              "    .dataframe thead th {\n",
              "        text-align: right;\n",
              "    }\n",
              "</style>\n",
              "<table border=\"1\" class=\"dataframe\">\n",
              "  <thead>\n",
              "    <tr style=\"text-align: right;\">\n",
              "      <th></th>\n",
              "      <th>label</th>\n",
              "      <th>message</th>\n",
              "    </tr>\n",
              "  </thead>\n",
              "  <tbody>\n",
              "    <tr>\n",
              "      <th>0</th>\n",
              "      <td>ham</td>\n",
              "      <td>Go until jurong point, crazy.. Available only ...</td>\n",
              "    </tr>\n",
              "    <tr>\n",
              "      <th>1</th>\n",
              "      <td>ham</td>\n",
              "      <td>Ok lar... Joking wif u oni...</td>\n",
              "    </tr>\n",
              "    <tr>\n",
              "      <th>2</th>\n",
              "      <td>spam</td>\n",
              "      <td>Free entry in 2 a wkly comp to win FA Cup fina...</td>\n",
              "    </tr>\n",
              "    <tr>\n",
              "      <th>3</th>\n",
              "      <td>ham</td>\n",
              "      <td>U dun say so early hor... U c already then say...</td>\n",
              "    </tr>\n",
              "    <tr>\n",
              "      <th>4</th>\n",
              "      <td>ham</td>\n",
              "      <td>Nah I don't think he goes to usf, he lives aro...</td>\n",
              "    </tr>\n",
              "  </tbody>\n",
              "</table>\n",
              "</div>"
            ],
            "text/plain": [
              "  label                                            message\n",
              "0   ham  Go until jurong point, crazy.. Available only ...\n",
              "1   ham                      Ok lar... Joking wif u oni...\n",
              "2  spam  Free entry in 2 a wkly comp to win FA Cup fina...\n",
              "3   ham  U dun say so early hor... U c already then say...\n",
              "4   ham  Nah I don't think he goes to usf, he lives aro..."
            ]
          },
          "metadata": {
            "tags": []
          },
          "execution_count": 28
        }
      ]
    },
    {
      "cell_type": "markdown",
      "metadata": {
        "id": "UjQqBFJ_Uhf3"
      },
      "source": [
        "#### 2.4. Modify columns\n",
        "Requires: change ham to 0, and spam to 1 in Label Attribute."
      ]
    },
    {
      "cell_type": "code",
      "metadata": {
        "colab": {
          "base_uri": "https://localhost:8080/",
          "height": 204
        },
        "id": "VtIlathjUhf3",
        "outputId": "189ce77e-adaf-4d38-87c3-01747cb4fe2f"
      },
      "source": [
        "# enter here\n",
        "from sklearn.preprocessing import LabelEncoder\n",
        "le = LabelEncoder()\n",
        "sms['label'] = le.fit_transform(sms['label'])\n",
        "sms.head()"
      ],
      "execution_count": 29,
      "outputs": [
        {
          "output_type": "execute_result",
          "data": {
            "text/html": [
              "<div>\n",
              "<style scoped>\n",
              "    .dataframe tbody tr th:only-of-type {\n",
              "        vertical-align: middle;\n",
              "    }\n",
              "\n",
              "    .dataframe tbody tr th {\n",
              "        vertical-align: top;\n",
              "    }\n",
              "\n",
              "    .dataframe thead th {\n",
              "        text-align: right;\n",
              "    }\n",
              "</style>\n",
              "<table border=\"1\" class=\"dataframe\">\n",
              "  <thead>\n",
              "    <tr style=\"text-align: right;\">\n",
              "      <th></th>\n",
              "      <th>label</th>\n",
              "      <th>message</th>\n",
              "    </tr>\n",
              "  </thead>\n",
              "  <tbody>\n",
              "    <tr>\n",
              "      <th>0</th>\n",
              "      <td>0</td>\n",
              "      <td>Go until jurong point, crazy.. Available only ...</td>\n",
              "    </tr>\n",
              "    <tr>\n",
              "      <th>1</th>\n",
              "      <td>0</td>\n",
              "      <td>Ok lar... Joking wif u oni...</td>\n",
              "    </tr>\n",
              "    <tr>\n",
              "      <th>2</th>\n",
              "      <td>1</td>\n",
              "      <td>Free entry in 2 a wkly comp to win FA Cup fina...</td>\n",
              "    </tr>\n",
              "    <tr>\n",
              "      <th>3</th>\n",
              "      <td>0</td>\n",
              "      <td>U dun say so early hor... U c already then say...</td>\n",
              "    </tr>\n",
              "    <tr>\n",
              "      <th>4</th>\n",
              "      <td>0</td>\n",
              "      <td>Nah I don't think he goes to usf, he lives aro...</td>\n",
              "    </tr>\n",
              "  </tbody>\n",
              "</table>\n",
              "</div>"
            ],
            "text/plain": [
              "   label                                            message\n",
              "0      0  Go until jurong point, crazy.. Available only ...\n",
              "1      0                      Ok lar... Joking wif u oni...\n",
              "2      1  Free entry in 2 a wkly comp to win FA Cup fina...\n",
              "3      0  U dun say so early hor... U c already then say...\n",
              "4      0  Nah I don't think he goes to usf, he lives aro..."
            ]
          },
          "metadata": {
            "tags": []
          },
          "execution_count": 29
        }
      ]
    },
    {
      "cell_type": "markdown",
      "metadata": {
        "id": "R4Sgy3d8Uhf3"
      },
      "source": [
        "#### 2.5. Add new column\n",
        "Requires: Add message_len Attribute that is the length of the message."
      ]
    },
    {
      "cell_type": "code",
      "metadata": {
        "colab": {
          "base_uri": "https://localhost:8080/",
          "height": 204
        },
        "id": "Gh0J5GTaUhf3",
        "outputId": "38bd3180-45e1-4fbd-d387-babd1a3cef27"
      },
      "source": [
        "# enter here\n",
        "count = 0\n",
        "length = []\n",
        "for i in sms['message']:\n",
        "    length.append(len(i))\n",
        "sms['length'] = length\n",
        "\n",
        "sms.head()"
      ],
      "execution_count": 30,
      "outputs": [
        {
          "output_type": "execute_result",
          "data": {
            "text/html": [
              "<div>\n",
              "<style scoped>\n",
              "    .dataframe tbody tr th:only-of-type {\n",
              "        vertical-align: middle;\n",
              "    }\n",
              "\n",
              "    .dataframe tbody tr th {\n",
              "        vertical-align: top;\n",
              "    }\n",
              "\n",
              "    .dataframe thead th {\n",
              "        text-align: right;\n",
              "    }\n",
              "</style>\n",
              "<table border=\"1\" class=\"dataframe\">\n",
              "  <thead>\n",
              "    <tr style=\"text-align: right;\">\n",
              "      <th></th>\n",
              "      <th>label</th>\n",
              "      <th>message</th>\n",
              "      <th>length</th>\n",
              "    </tr>\n",
              "  </thead>\n",
              "  <tbody>\n",
              "    <tr>\n",
              "      <th>0</th>\n",
              "      <td>0</td>\n",
              "      <td>Go until jurong point, crazy.. Available only ...</td>\n",
              "      <td>111</td>\n",
              "    </tr>\n",
              "    <tr>\n",
              "      <th>1</th>\n",
              "      <td>0</td>\n",
              "      <td>Ok lar... Joking wif u oni...</td>\n",
              "      <td>29</td>\n",
              "    </tr>\n",
              "    <tr>\n",
              "      <th>2</th>\n",
              "      <td>1</td>\n",
              "      <td>Free entry in 2 a wkly comp to win FA Cup fina...</td>\n",
              "      <td>155</td>\n",
              "    </tr>\n",
              "    <tr>\n",
              "      <th>3</th>\n",
              "      <td>0</td>\n",
              "      <td>U dun say so early hor... U c already then say...</td>\n",
              "      <td>49</td>\n",
              "    </tr>\n",
              "    <tr>\n",
              "      <th>4</th>\n",
              "      <td>0</td>\n",
              "      <td>Nah I don't think he goes to usf, he lives aro...</td>\n",
              "      <td>61</td>\n",
              "    </tr>\n",
              "  </tbody>\n",
              "</table>\n",
              "</div>"
            ],
            "text/plain": [
              "   label                                            message  length\n",
              "0      0  Go until jurong point, crazy.. Available only ...     111\n",
              "1      0                      Ok lar... Joking wif u oni...      29\n",
              "2      1  Free entry in 2 a wkly comp to win FA Cup fina...     155\n",
              "3      0  U dun say so early hor... U c already then say...      49\n",
              "4      0  Nah I don't think he goes to usf, he lives aro...      61"
            ]
          },
          "metadata": {
            "tags": []
          },
          "execution_count": 30
        }
      ]
    },
    {
      "cell_type": "markdown",
      "metadata": {
        "id": "hlnbUvsxUhf4"
      },
      "source": [
        "#### 2.6. Histogram graph"
      ]
    },
    {
      "cell_type": "code",
      "metadata": {
        "colab": {
          "base_uri": "https://localhost:8080/",
          "height": 518
        },
        "id": "YoNaHtIlUhf4",
        "outputId": "5735e174-c09e-4bc7-efbf-1a0ce8e063ee"
      },
      "source": [
        "# enter here\n",
        "plt.figure(figsize=(12,8))\n",
        "plt.hist(x='length', bins=35, data=sms[sms['label']==0], edgecolor='black',color = 'blue',label='Ham massage',alpha=0.7)\n",
        "plt.hist(x='length', bins=10, data=sms[sms['label']==1], edgecolor='black',color = 'red',label='Spam message',alpha=0.7)\n",
        "plt.legend()\n",
        "plt.title('Distribution of the Length of Messages', fontsize=15)\n",
        "plt.xlabel('Message Length', fontsize=12)\n",
        "plt.ylabel('Frequency', fontsize=12)\n",
        "plt.show()\n"
      ],
      "execution_count": 31,
      "outputs": [
        {
          "output_type": "display_data",
          "data": {
            "image/png": "[encoded data removed]",
            "text/plain": [
              "<Figure size 864x576 with 1 Axes>"
            ]
          },
          "metadata": {
            "tags": [],
            "needs_background": "light"
          }
        }
      ]
    },
    {
      "cell_type": "markdown",
      "metadata": {
        "id": "XgFNj2q9Uhf4"
      },
      "source": [
        "#### 2.7. Preprocessing text \n",
        "    Takes in a string of text, then performs the following:\n",
        "    1. Remove all punctuation\n",
        "    2. Remove all stopwords\n",
        "    3. Returns a list of the cleaned text"
      ]
    },
    {
      "cell_type": "code",
      "metadata": {
        "colab": {
          "base_uri": "https://localhost:8080/"
        },
        "id": "mfl7NQZ8Uhf5",
        "outputId": "7c41c3a0-603a-4c76-cb25-d13bbe5cb091"
      },
      "source": [
        "import string\n",
        "import nltk\n",
        "nltk.download('stopwords')\n",
        "from nltk.corpus import stopwords\n",
        "\n",
        "def text_process(mess):\n",
        "    STOPWORDS = stopwords.words('english') + ['u', 'ü', 'ur', '4', '2', 'im', 'dont', 'doin', 'ure']\n",
        "    # Check characters to see if they are in punctuation\n",
        "    nopunc = [char for char in mess if char not in string.punctuation]\n",
        "    # Join the characters again to form the string.\n",
        "    nopunc = ''.join(nopunc)\n",
        "    # Now just remove any stopwords\n",
        "    return ' '.join([word for word in nopunc.split() if word.lower() not in STOPWORDS])"
      ],
      "execution_count": 32,
      "outputs": [
        {
          "output_type": "stream",
          "text": [
            "[nltk_data] Downloading package stopwords to /root/nltk_data...\n",
            "[nltk_data]   Package stopwords is already up-to-date!\n"
          ],
          "name": "stdout"
        }
      ]
    },
    {
      "cell_type": "code",
      "metadata": {
        "colab": {
          "base_uri": "https://localhost:8080/",
          "height": 204
        },
        "id": "kTg-9cCuUhf5",
        "outputId": "029d8ce8-c9e0-43f6-f9af-86d319c282c0"
      },
      "source": [
        "# Apply the above function to preprocess the text.\n",
        "clean = []\n",
        "for i in range(len(sms.message)):\n",
        "    clean.append(text_process(sms.message[i]).lower())\n",
        "sms['clean_message'] = clean\n",
        "sms = sms.drop(columns=['message'])\n",
        "sms = sms.drop(columns=['length'])\n",
        "count = 0\n",
        "length = []\n",
        "for i in sms['clean_message']:\n",
        "    length.append(len(i))\n",
        "sms['length'] = length\n",
        "# enter here\n",
        "sms.head()"
      ],
      "execution_count": 33,
      "outputs": [
        {
          "output_type": "execute_result",
          "data": {
            "text/html": [
              "<div>\n",
              "<style scoped>\n",
              "    .dataframe tbody tr th:only-of-type {\n",
              "        vertical-align: middle;\n",
              "    }\n",
              "\n",
              "    .dataframe tbody tr th {\n",
              "        vertical-align: top;\n",
              "    }\n",
              "\n",
              "    .dataframe thead th {\n",
              "        text-align: right;\n",
              "    }\n",
              "</style>\n",
              "<table border=\"1\" class=\"dataframe\">\n",
              "  <thead>\n",
              "    <tr style=\"text-align: right;\">\n",
              "      <th></th>\n",
              "      <th>label</th>\n",
              "      <th>clean_message</th>\n",
              "      <th>length</th>\n",
              "    </tr>\n",
              "  </thead>\n",
              "  <tbody>\n",
              "    <tr>\n",
              "      <th>0</th>\n",
              "      <td>0</td>\n",
              "      <td>go jurong point crazy available bugis n great ...</td>\n",
              "      <td>82</td>\n",
              "    </tr>\n",
              "    <tr>\n",
              "      <th>1</th>\n",
              "      <td>0</td>\n",
              "      <td>ok lar joking wif oni</td>\n",
              "      <td>21</td>\n",
              "    </tr>\n",
              "    <tr>\n",
              "      <th>2</th>\n",
              "      <td>1</td>\n",
              "      <td>free entry wkly comp win fa cup final tkts 21s...</td>\n",
              "      <td>133</td>\n",
              "    </tr>\n",
              "    <tr>\n",
              "      <th>3</th>\n",
              "      <td>0</td>\n",
              "      <td>dun say early hor c already say</td>\n",
              "      <td>31</td>\n",
              "    </tr>\n",
              "    <tr>\n",
              "      <th>4</th>\n",
              "      <td>0</td>\n",
              "      <td>nah think goes usf lives around though</td>\n",
              "      <td>38</td>\n",
              "    </tr>\n",
              "  </tbody>\n",
              "</table>\n",
              "</div>"
            ],
            "text/plain": [
              "   label                                      clean_message  length\n",
              "0      0  go jurong point crazy available bugis n great ...      82\n",
              "1      0                              ok lar joking wif oni      21\n",
              "2      1  free entry wkly comp win fa cup final tkts 21s...     133\n",
              "3      0                    dun say early hor c already say      31\n",
              "4      0             nah think goes usf lives around though      38"
            ]
          },
          "metadata": {
            "tags": []
          },
          "execution_count": 33
        }
      ]
    },
    {
      "cell_type": "code",
      "metadata": {
        "colab": {
          "base_uri": "https://localhost:8080/",
          "height": 518
        },
        "id": "reGK7yCrUhf5",
        "outputId": "cb5a8022-5b12-4bca-81c4-4f1a718eface"
      },
      "source": [
        "# Draw Histogram graph again with clean messages.\n",
        "plt.figure(figsize=(12,8))\n",
        "plt.hist(x='length', bins=35, data=sms[sms['label']==0], edgecolor='black',color = 'blue',label='Ham massage',alpha=0.7)\n",
        "plt.hist(x='length', bins=10, data=sms[sms['label']==1], edgecolor='black',color = 'red',label='Spam message',alpha=0.7)\n",
        "plt.legend()\n",
        "plt.title('Distribution of the Length of Messages', fontsize=15)\n",
        "plt.xlabel('Message Length', fontsize=12)\n",
        "plt.ylabel('Frequency', fontsize=12)\n",
        "plt.show()\n",
        "# enter here"
      ],
      "execution_count": 34,
      "outputs": [
        {
          "output_type": "display_data",
          "data": {
            "image/png": "[encoded data removed]",
            "text/plain": [
              "<Figure size 864x576 with 1 Axes>"
            ]
          },
          "metadata": {
            "tags": [],
            "needs_background": "light"
          }
        }
      ]
    },
    {
      "cell_type": "markdown",
      "metadata": {
        "id": "h0FC4AyPUhf5"
      },
      "source": [
        "#### 2.8. Feature extraction using TfidfVectorizer"
      ]
    },
    {
      "cell_type": "code",
      "metadata": {
        "id": "Aatv_PKlUhf6"
      },
      "source": [
        "# enter here\n",
        "smstf = sms.copy()\n",
        "tf = TfidfVectorizer()\n",
        "temp = tf.fit_transform(smstf['clean_message']).toarray()\n",
        "\n",
        "smstf_ = pd.DataFrame(temp)\n",
        "smstf = pd.concat([smstf, smstf_], axis = 1, sort = False)\n",
        "y_tf = pd.DataFrame(smstf.label).to_numpy()\n",
        "X_tf = smstf.drop(columns=['label', 'clean_message']).to_numpy()"
      ],
      "execution_count": 35,
      "outputs": []
    },
    {
      "cell_type": "code",
      "metadata": {
        "id": "ljK1PWdtjW7r"
      },
      "source": [
        "kf = KFold(n_splits=5)\n",
        "X_traintf = []\n",
        "y_traintf = []\n",
        "X_testtf = []\n",
        "y_testtf = []\n",
        "for train_index, test_index in kf.split(X_tf):\n",
        "    X_traintf.append(X_tf[train_index])\n",
        "    X_testtf.append(X_tf[test_index])\n",
        "    y_traintf.append(y_tf[train_index])\n",
        "    y_testtf.append(y_tf[test_index])"
      ],
      "execution_count": 43,
      "outputs": []
    },
    {
      "cell_type": "markdown",
      "metadata": {
        "id": "i9X4ZH-LUhf6"
      },
      "source": [
        "#### 2.9. Feature extraction using HashingVectorizer"
      ]
    },
    {
      "cell_type": "code",
      "metadata": {
        "id": "LpECScboUhf6"
      },
      "source": [
        "# enter here\n",
        "smshv = sms.copy()\n",
        "hv = HashingVectorizer(n_features=10000)\n",
        "temp = hv.fit_transform(smshv['clean_message']).toarray()\n",
        "smshv_ = pd.DataFrame(temp)\n",
        "smshv = pd.concat([smshv, smshv_], axis = 1, sort = False)\n",
        "y_hv = pd.DataFrame(smshv.label).to_numpy()\n",
        "X_hv = smshv.drop(columns=['label', 'clean_message']).to_numpy()"
      ],
      "execution_count": 36,
      "outputs": []
    },
    {
      "cell_type": "code",
      "metadata": {
        "id": "TE5jxxBniLrT"
      },
      "source": [
        "kf = KFold(n_splits=5)\n",
        "X_trainhv = []\n",
        "y_trainhv = []\n",
        "X_testhv = []\n",
        "y_testhv = []\n",
        "for train_index, test_index in kf.split(X_hv):\n",
        "    X_trainhv.append(X_hv[train_index])\n",
        "    X_testhv.append(X_hv[test_index])\n",
        "    y_trainhv.append(y_hv[train_index])\n",
        "    y_testhv.append(y_hv[test_index])"
      ],
      "execution_count": 38,
      "outputs": []
    },
    {
      "cell_type": "markdown",
      "metadata": {
        "id": "bOIBQnHEUhf6"
      },
      "source": [
        "#### 2.10. Feature extraction using CountVectorizer"
      ]
    },
    {
      "cell_type": "code",
      "metadata": {
        "id": "a_Dx6NlFUhf6"
      },
      "source": [
        "# enter here\n",
        "smscv = sms.copy()\n",
        "cv = CountVectorizer()\n",
        "temp = cv.fit_transform(smscv['clean_message']).toarray()\n",
        "smscv_ = pd.DataFrame(temp)\n",
        "smscv = pd.concat([smscv, smscv_], axis = 1, sort = False)\n",
        "y_cv = pd.DataFrame(smscv.label).to_numpy()\n",
        "X_cv = smscv.drop(columns=['label', 'clean_message']).to_numpy()"
      ],
      "execution_count": 37,
      "outputs": []
    },
    {
      "cell_type": "code",
      "metadata": {
        "id": "GHWhHFETigwK"
      },
      "source": [
        "kf = KFold(n_splits=5)\n",
        "X_traincv = []\n",
        "y_traincv = []\n",
        "X_testcv = []\n",
        "y_testcv = []\n",
        "for train_index, test_index in kf.split(X_cv):\n",
        "    X_traincv.append(X_cv[train_index])\n",
        "    X_testcv.append(X_cv[test_index])\n",
        "    y_traincv.append(y_cv[train_index])\n",
        "    y_testcv.append(y_cv[test_index])"
      ],
      "execution_count": 39,
      "outputs": []
    },
    {
      "cell_type": "markdown",
      "metadata": {
        "id": "I1I1k3WQUhf7"
      },
      "source": [
        "#### 2.11. Your contributions\n",
        "\n",
        "    Create clean_msg_2 with your text_process function. \n",
        "    Then, apply feature extraction using TfidfVectorizer, HashingVectorizer and CountVectorizer\n",
        "    Compare the result with the default text_process function. "
      ]
    },
    {
      "cell_type": "markdown",
      "metadata": {
        "id": "XJYBxHEgUhf7"
      },
      "source": [
        "### 3. Spam detection"
      ]
    },
    {
      "cell_type": "code",
      "metadata": {
        "id": "y5keTE5mUhf7"
      },
      "source": [
        "from sklearn import tree\n",
        "from sklearn.model_selection import KFold\n",
        "from sklearn import metrics\n",
        "import time\n",
        "\n",
        "y = sms.label\n",
        "\n",
        "# only using the decision tree classifier with default setting for training and predicting. \n",
        "# In other words, make no changes to this section.\n",
        "\n",
        "model = tree.DecisionTreeClassifier()"
      ],
      "execution_count": 41,
      "outputs": []
    },
    {
      "cell_type": "markdown",
      "metadata": {
        "id": "wXzYwmKbUhf7"
      },
      "source": [
        "#### 3.1. Using TF-IDF Vectorizer\n",
        "\n",
        "    Requirements:\n",
        "    1. Using 5-fold for spliting the dataset \n",
        "    2. Add accuracy of each fold to acc_tv\n",
        "    3. Caculate and print the proccessing time\n",
        "    4. Print mean of accuracy"
      ]
    },
    {
      "cell_type": "code",
      "metadata": {
        "colab": {
          "base_uri": "https://localhost:8080/"
        },
        "id": "juXwI48AUhf8",
        "outputId": "3223aa30-fef6-4af3-f957-f714d416e52d"
      },
      "source": [
        "acc_tv = []\n",
        "# enter here\n",
        "for i in range(5):\n",
        "    model.fit(X_traintf[i], y_traintf[i])\n",
        "    y_predtf = model.predict(X_testtf[i])\n",
        "    acc_tv.append(metrics.accuracy_score(y_testtf[i],y_predtf))\n",
        "print(acc_tv)\n",
        "from scipy import mean\n",
        "print(mean(acc_tv))"
      ],
      "execution_count": 46,
      "outputs": [
        {
          "output_type": "stream",
          "text": [
            "[0.9659192825112107, 0.9695067264573991, 0.9649910233393177, 0.9506283662477558, 0.966786355475763]\n",
            "0.9635663508062894\n"
          ],
          "name": "stdout"
        }
      ]
    },
    {
      "cell_type": "markdown",
      "metadata": {
        "id": "FVsC09ckUhf8"
      },
      "source": [
        "#### 3.2. Using Hashing Vectorizer\n",
        "    Requirements:\n",
        "    1. Using 5-fold for spliting the dataset \n",
        "    2. Add accuracy of each fold to acc_hv\n",
        "    3. Caculate and print the proccessing time\n",
        "    4. Print mean of accuracy"
      ]
    },
    {
      "cell_type": "code",
      "metadata": {
        "colab": {
          "base_uri": "https://localhost:8080/"
        },
        "id": "gmgHmnmqUhf8",
        "outputId": "f289f678-67d0-4e57-9985-cd514218bf9e"
      },
      "source": [
        "acc_hv = []\n",
        "# enter here\n",
        "for i in range(5):\n",
        "    model.fit(X_trainhv[i], y_trainhv[i])\n",
        "    y_predhv = model.predict(X_testhv[i])\n",
        "    acc_hv.append(metrics.accuracy_score(y_testhv[i],y_predhv))\n",
        "\n",
        "print(acc_hv)\n",
        "from scipy import mean\n",
        "print(mean(acc_hv))"
      ],
      "execution_count": 47,
      "outputs": [
        {
          "output_type": "stream",
          "text": [
            "[0.9641255605381166, 0.9713004484304932, 0.966786355475763, 0.9515260323159784, 0.966786355475763]\n",
            "0.9641049504472228\n"
          ],
          "name": "stdout"
        }
      ]
    },
    {
      "cell_type": "markdown",
      "metadata": {
        "id": "gLOzDq00Uhf9"
      },
      "source": [
        "#### 3.3. Using Count Vectorizer\n",
        "\n",
        "    Requirements:\n",
        "    1. Using 5-fold for spliting the dataset \n",
        "    2. Add accuracy of each fold to acc_cv\n",
        "    3. Caculate and print the proccessing time\n",
        "    4. Print mean of accuracy"
      ]
    },
    {
      "cell_type": "code",
      "metadata": {
        "colab": {
          "base_uri": "https://localhost:8080/"
        },
        "id": "I5lqDRxrUhf9",
        "outputId": "2cd3238d-4943-49af-e82f-63b2a35c1d09"
      },
      "source": [
        "acc_cv = []\n",
        "# enter here\n",
        "for i in range(5):\n",
        "    model.fit(X_traincv[i], y_traincv[i])\n",
        "    y_predcv = model.predict(X_testcv[i])\n",
        "    acc_cv.append(metrics.accuracy_score(y_testcv[i],y_predcv))\n",
        "\n",
        "print(acc_cv)\n",
        "from scipy import mean\n",
        "print(mean(acc_cv))"
      ],
      "execution_count": 48,
      "outputs": [
        {
          "output_type": "stream",
          "text": [
            "[0.967713004484305, 0.967713004484305, 0.966786355475763, 0.9569120287253142, 0.9631956912028725]\n",
            "0.964464016874512\n"
          ],
          "name": "stdout"
        }
      ]
    },
    {
      "cell_type": "markdown",
      "metadata": {
        "id": "w3XB5dxQUhf9"
      },
      "source": [
        "#### 3.4. Ploting Accuracies in 5-Folds"
      ]
    },
    {
      "cell_type": "code",
      "metadata": {
        "colab": {
          "base_uri": "https://localhost:8080/",
          "height": 312
        },
        "id": "Umh1XKhNUhf9",
        "outputId": "92911151-3e41-42b3-d792-85f7687215b3"
      },
      "source": [
        "# enter here\n",
        "labels = ['fold 1', 'fold 2', 'fold 3', 'fold 4', 'fold 5']\n",
        "x = np.arange(len(labels))\n",
        "width = 0.2\n",
        "fig, ax = plt.subplots()\n",
        "rects1 = ax.bar(x - width/2, acc_tv, width)\n",
        "rects2 = ax.bar(x + width/2, acc_hv, width)\n",
        "rects3 = ax.bar(x + (width/2)*3, acc_cv, width)\n",
        "ax.set_ylabel('Accuracy')\n",
        "ax.set_xlabel('Fold')\n",
        "ax.set_title('Accuracy')\n",
        "ax.set_xticks(x)\n",
        "ax.set_xticklabels(labels)\n",
        "ax.legend(['TfidfVectorizer', 'HashingVectorizer', 'CountVectorizer'])\n",
        "ax.set_ylim([0,1.3])"
      ],
      "execution_count": 49,
      "outputs": [
        {
          "output_type": "execute_result",
          "data": {
            "text/plain": [
              "(0.0, 1.3)"
            ]
          },
          "metadata": {
            "tags": []
          },
          "execution_count": 49
        },
        {
          "output_type": "display_data",
          "data": {
            "image/png": "[encoded data removed]",
            "text/plain": [
              "<Figure size 432x288 with 1 Axes>"
            ]
          },
          "metadata": {
            "tags": [],
            "needs_background": "light"
          }
        }
      ]
    }
  ]
}